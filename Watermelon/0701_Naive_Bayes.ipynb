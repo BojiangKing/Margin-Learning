{
 "cells": [
  {
   "cell_type": "code",
   "execution_count": 7,
   "metadata": {},
   "outputs": [],
   "source": [
    "import numpy as np\n",
    "import pandas as pd\n",
    "from sklearn.utils.multiclass import type_of_target\n",
    "from collections import namedtuple"
   ]
  },
  {
   "attachments": {},
   "cell_type": "markdown",
   "metadata": {},
   "source": [
    "# naive Bayes classifier\n",
    "$${h_{nb}} = \\arg_{c \\in y}\\max P(c) {\\prod^d_{i=1}} P({x_i} | c)$$\n",
    "其中：\n",
    "$d$为属性类别数，$x_i$为$x$在第$i$个属性上的取值"
   ]
  },
  {
   "cell_type": "markdown",
   "metadata": {},
   "source": [
    "## 常规\n",
    "$$P(c) = \\frac{\\left\\vert D_c \\right\\vert}{\\left\\vert D \\right\\vert}$$\n",
    "### 离散值\n",
    "$$P({x_i} | c) = \\frac{\\left\\vert D_{c, x_i} \\right\\vert}{\\left\\vert D_c \\right\\vert}$$\n",
    "### 连续值\n",
    "$$P({x_i} | c) = \\frac{1}{\\sqrt{2\\pi} \\sigma_{c,i}} \\exp{\\left( -\\frac{\\left( x_i - \\mu_{c, i} \\right)^2}{2\\sigma_{c,i}^2} \\right)}$$\n",
    "## 拉普拉斯(Laplacian correction)修正\n",
    "为了避免其他属性携带的信息被训练集中未出现的属性值抹去\n",
    "$$P(c) = \\frac{\\left\\vert D_c \\right\\vert + 1}{\\left\\vert D \\right\\vert + N}$$\n",
    "### 离散值\n",
    "$$P({x_i} | c) = \\frac{\\left\\vert D_{c, x_i} \\right\\vert + 1}{\\left\\vert D_c \\right\\vert + N_i}$$\n",
    "### 连续值\n",
    "$$P({x_i} | c) = \\frac{1}{\\sqrt{2\\pi} \\sigma_{c,i}} \\exp{\\left( -\\frac{\\left( x_i - \\mu_{c, i} \\right)^2}{2\\sigma_{c,i}^2} \\right)}$$\n",
    "其中：\n",
    "$N$表示训练集$D$中可能的类别数，$N_i$表示第$i$个属性可能的取值数"
   ]
  },
  {
   "cell_type": "code",
   "execution_count": 8,
   "metadata": {},
   "outputs": [],
   "source": [
    "def train_nb(X, y, method = 'common'):\n",
    "#     根据所选的方法，确定拉普拉斯修正系数\n",
    "    if method == 'common':\n",
    "        l_1 = 0\n",
    "        l_N = 0\n",
    "    else:\n",
    "        # 拉普拉斯平滑\n",
    "        l_1 = 1\n",
    "        l_N = 2\n",
    "        \n",
    "    m, n = X.shape\n",
    "    p1 = (len(y[y == '是']) + l_1) / (m + l_N) \n",
    "\n",
    "    p1_list = []  # 用于保存正例下各属性的条件概率\n",
    "    p0_list = []\n",
    "\n",
    "    X1 = X[y == '是']\n",
    "    X0 = X[y == '否']\n",
    "\n",
    "    m1, _ = X1.shape\n",
    "    m0, _ = X0.shape\n",
    "\n",
    "    for i in range(n):\n",
    "        xi = X.iloc[:, i]\n",
    "        p_xi = namedtuple(X.columns[i], ['is_continuous', 'conditional_pro'])  # 用于储存每个变量的情况\n",
    "\n",
    "        is_continuous = type_of_target(xi) == 'continuous'\n",
    "        xi1 = X1.iloc[:, i]\n",
    "        xi0 = X0.iloc[:, i]\n",
    "        if is_continuous:  # 连续值时，conditional_pro 储存的就是 [mean, var] 即均值和方差\n",
    "            xi1_mean = np.mean(xi1)\n",
    "            xi1_var = np.var(xi1)\n",
    "            xi0_mean = np.mean(xi0)\n",
    "            xi0_var = np.var(xi0)\n",
    "\n",
    "            p1_list.append(p_xi(is_continuous, [xi1_mean, xi1_var]))\n",
    "            p0_list.append(p_xi(is_continuous, [xi0_mean, xi0_var]))\n",
    "        else:  # 离散值时直接计算各类别的条件概率\n",
    "            unique_value = xi.unique()  # 取值情况\n",
    "            l_Ni = len(unique_value) if method == 'laplacian' else 0  # 根据所选的方法，确定拉普拉斯修正系数\n",
    "\n",
    "            xi1_value_count = pd.Series(pd.value_counts(xi1), index=unique_value).fillna(0) + l_1  # 计算正样本中，该属性每个取值的数量\n",
    "            xi0_value_count = pd.Series(pd.value_counts(xi1), index=unique_value).fillna(0) + l_1\n",
    "\n",
    "            p1_list.append(p_xi(is_continuous, np.log(xi1_value_count / (m1 + l_Ni))))\n",
    "            p0_list.append(p_xi(is_continuous, np.log(xi0_value_count / (m0 + l_Ni))))\n",
    "\n",
    "    return p1, p1_list, p0_list"
   ]
  },
  {
   "cell_type": "code",
   "execution_count": 9,
   "metadata": {},
   "outputs": [],
   "source": [
    "def predict_nb(x, p1, p1_list, p0_list):\n",
    "    n = len(x)\n",
    "\n",
    "    x_p1 = np.log(p1)\n",
    "    x_p0 = np.log(1 - p1)\n",
    "    for i in range(n):\n",
    "        p1_xi = p1_list[i]\n",
    "        p0_xi = p0_list[i]\n",
    "\n",
    "        if p1_xi.is_continuous:\n",
    "            mean1, var1 = p1_xi.conditional_pro\n",
    "            mean0, var0 = p0_xi.conditional_pro\n",
    "            x_p1 += np.log(1 / (np.sqrt(2 * np.pi) * var1) * np.exp(- (x[i] - mean1) ** 2 / (2 * var1 ** 2)))\n",
    "            x_p0 += np.log(1 / (np.sqrt(2 * np.pi) * var0) * np.exp(- (x[i] - mean0) ** 2 / (2 * var0 ** 2)))\n",
    "        else:\n",
    "            x_p1 += p1_xi.conditional_pro[x[i]]\n",
    "            x_p0 += p0_xi.conditional_pro[x[i]]\n",
    "\n",
    "    if x_p1 > x_p0:\n",
    "        return '是'\n",
    "    else:\n",
    "        return '否'"
   ]
  },
  {
   "cell_type": "code",
   "execution_count": 11,
   "metadata": {},
   "outputs": [],
   "source": [
    "data_path = r'.\\data_watermelon\\watermelon3_0_Ch.csv'\n",
    "data = pd.read_csv(data_path, index_col=0)\n",
    "\n",
    "X = data.iloc[:, :-1]\n",
    "y = data.iloc[:, -1]\n",
    "# 因为log的处理，普通的朴素贝叶斯分类器已经无法处理属性值不存在的情况了\n",
    "# p1, p1_list, p0_list = train_nb(X, y) \n",
    "p1_l, p1_list_l, p0_list_l = train_nb(X, y, 'laplacian')"
   ]
  },
  {
   "cell_type": "code",
   "execution_count": 14,
   "metadata": {},
   "outputs": [
    {
     "name": "stdout",
     "output_type": "stream",
     "text": [
      "是\n"
     ]
    }
   ],
   "source": [
    "x_test = X.iloc[0, :]   # 书中测1 其实就是第一个数据\n",
    "\n",
    "print(predict_nb(x_test, p1_l, p1_list_l, p0_list_l))"
   ]
  }
 ],
 "metadata": {
  "interpreter": {
   "hash": "286fda5d2aa72c9e5cf23b60c7595768c7b370b5342a53e5f05387568753ea9c"
  },
  "kernelspec": {
   "display_name": "Python 3",
   "language": "python",
   "name": "python3"
  },
  "language_info": {
   "codemirror_mode": {
    "name": "ipython",
    "version": 3
   },
   "file_extension": ".py",
   "mimetype": "text/x-python",
   "name": "python",
   "nbconvert_exporter": "python",
   "pygments_lexer": "ipython3",
   "version": "3.7.10"
  }
 },
 "nbformat": 4,
 "nbformat_minor": 2
}