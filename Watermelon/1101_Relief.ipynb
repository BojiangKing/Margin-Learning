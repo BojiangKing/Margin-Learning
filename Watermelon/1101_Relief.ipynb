{
    "cells": [
        {
            "cell_type": "code",
            "execution_count": 1,
            "source": [
                "import pandas as pd\r\n",
                "import numpy as np"
            ],
            "outputs": [
                {
                    "output_type": "stream",
                    "name": "stderr",
                    "text": [
                        "D:\\ProgramData\\Anaconda3\\envs\\study_py37\\lib\\site-packages\\numpy\\_distributor_init.py:32: UserWarning: loaded more than 1 DLL from .libs:\n",
                        "D:\\ProgramData\\Anaconda3\\envs\\study_py37\\lib\\site-packages\\numpy\\.libs\\libopenblas.GK7GX5KEQ4F6UYO3P26ULGBQYHGQO7J4.gfortran-win_amd64.dll\n",
                        "D:\\ProgramData\\Anaconda3\\envs\\study_py37\\lib\\site-packages\\numpy\\.libs\\libopenblas.WCDJNK7YVMPZQ2ME2ZZHJJRJ3JIKNDB7.gfortran-win_amd64.dll\n",
                        "  stacklevel=1)\n"
                    ]
                }
            ],
            "metadata": {}
        },
        {
            "cell_type": "markdown",
            "source": [
                "# Relief\r\n",
                "$$\\delta^j = \\sum_i -diff(x_i^j, x_{i,nh}^j)^2 + diff(x_i^j, x_{i, nm}^j)^2$$\r\n",
                "\r\n",
                "其中$x_a^j$表示样本$x_a$在属性$j$上的取值，$diff(x_a^j, x_b^j)$取决于属性$j$的类型：离散型，相同为1不同为0；连续型，$diff(x_a^j, x_b^j)=\\vert x_a^j - x_b^j\\vert$,$x_a^j, x_b^j$需要规范化到$[0, 1]$区间.\r\n",
                "\r\n",
                "$x_{i,nh}$称为猜中近邻(near-hit)，是同类样本中的最近邻，$x_{i, nm}$称为猜错近邻(near-miss)，异类样本中的最近邻。"
            ],
            "metadata": {}
        },
        {
            "cell_type": "code",
            "execution_count": 4,
            "source": [
                "class Relief:\r\n",
                "    def readData(self):\r\n",
                "        dataset = pd.read_csv('./data_watermelon/watermelon3_0_Ch.csv')  # 读取数据\r\n",
                "        self.Attributes = dataset.columns[1:-1]        #所有属性的名称\r\n",
                "        #print(self.Attributes)\r\n",
                "        dataset = np.matrix(dataset)\r\n",
                "        dataset = dataset[:,1:]\r\n",
                "        m,n = np.shape(dataset)      # 得到数据集大小\r\n",
                "        #print(dataset)\r\n",
                "        dataset[:,n-3:n-1] = (dataset[:,n-3:n-1]-np.min(dataset[:,n-3:n-1],0))/\\\r\n",
                "                                (np.max(dataset[:,n-3:n-1],0)-np.min(dataset[:,n-3:n-1],0))     # 连续属性规范化\r\n",
                "        self.goodindex = np.where(dataset[:,n-1]=='是')[0]        # 好瓜的索引\r\n",
                "        self.badindex = np.where(dataset[:,n-1]=='否')[0]         # 坏瓜的索引\r\n",
                "        self.dataset = dataset\r\n",
                "    # 计算每个样本之间的距离\r\n",
                "    def getDist(self):\r\n",
                "        m,n = np.shape(self.dataset)\r\n",
                "        distance = np.ones([m,m])\r\n",
                "        for i in range(m):\r\n",
                "            distance[i,i] = np.inf\r\n",
                "            for j in range(i+1,m):\r\n",
                "                dis = 0\r\n",
                "                for k in range(n-1):\r\n",
                "                    if type(self.dataset[i,k])== str:        # 离散属性\r\n",
                "                        dis = dis + 1 - np.int(self.dataset[i,k]==self.dataset[j,k])\r\n",
                "                    else:                                   # 连续属性\r\n",
                "                        dis = dis + pow((self.dataset[i,k]-self.dataset[j,k]),2)\r\n",
                "                distance[i,j] = dis\r\n",
                "                distance[j,i] = dis\r\n",
                "        self.distance = distance\r\n",
                " \r\n",
                "    # 过滤\r\n",
                "    def fliter(self):\r\n",
                "        m,n = np.shape(self.dataset)\r\n",
                "        delte = np.zeros([n-1])\r\n",
                "        for i in range(m):    # 依次对每一个样本进行\r\n",
                "            delte = delte + self.getdelet(i)\r\n",
                "        return delte\r\n",
                " \r\n",
                "    # 计算一个样本中所有属性的权值delte\r\n",
                "    def getdelet(self,i):\r\n",
                "        m,n = np.shape(self.dataset)\r\n",
                "        distance = self.distance[i,:]            # 该样本i到每一个样本的距离\r\n",
                "        gooddis = distance[self.goodindex]       # 到好瓜距离\r\n",
                "        baddis = distance[self.badindex]         # 到坏瓜距离\r\n",
                "        good = dict(zip(gooddis,self.goodindex))     # 生成字典，键为距离，值为样本索引\r\n",
                "        bad = dict(zip(baddis,self.badindex))\r\n",
                "        if self.dataset[i,-1] == '是':               # 样本i是好瓜\r\n",
                "            minh = np.min(gooddis)       # 同类中最小距离\r\n",
                "            indexh = good[minh]          # 最小距离对应的样本索引\r\n",
                "            minm = np.min(baddis)        # 不同类中最小距离\r\n",
                "            indexm = bad[minm]           # 不同类中最小距离对应的索引\r\n",
                "        else:\r\n",
                "            minh = np.min(baddis)       # 同类\r\n",
                "            indexh = bad[minh]\r\n",
                "            minm = np.min(gooddis)      # 不同类\r\n",
                "            indexm = good[minm]\r\n",
                "        delte = []\r\n",
                "        for j in range(n-1):           # 遍历每一个属性，进行计算\r\n",
                "            if type(self.dataset[i,j])== str:     # 离散属性\r\n",
                "                dh = 1 - np.int(self.dataset[i,j]==self.dataset[indexh,j])     # 同类\r\n",
                "                dm = 1 - np.int(self.dataset[i,j]==self.dataset[indexm,j])     # 不同类\r\n",
                "            else:                                # 连续属性\r\n",
                "                dh = np.float64(pow((self.dataset[i,j]-self.dataset[indexh,j]),2))   # 同类\r\n",
                "                dm = np.float64(pow((self.dataset[i,j]-self.dataset[indexm,j]),2))   # 不同类\r\n",
                "            delte.append(-dh+dm)\r\n",
                "        return delte                    # 返回的是样本i计算得到的每一个属性上的权值\r\n",
                " \r\n",
                " \r\n",
                "    def getAttr(self,delte):\r\n",
                "        dic = dict(zip(self.Attributes,delte))       # 得到字典\r\n",
                "        dd = sorted(dic.items(),key=lambda item:item[1],reverse=True)      # 根据值的大小进行排序，倒序\r\n",
                "        for i,j in dd:\r\n",
                "            print(i+':'+str(j),end='\\t')"
            ],
            "outputs": [],
            "metadata": {}
        },
        {
            "cell_type": "code",
            "execution_count": 5,
            "source": [
                "relief = Relief()\r\n",
                "relief.readData()\r\n",
                "relief.getDist()\r\n",
                "delte = relief.fliter()\r\n",
                "relief.getAttr(delte)"
            ],
            "outputs": [
                {
                    "output_type": "stream",
                    "name": "stdout",
                    "text": [
                        "纹理:9.0\t脐部:7.0\t根蒂:4.0\t含糖率:2.044916554108194\t密度:-0.5009664457141232\t敲声:-1.0\t触感:-4.0\t色泽:-7.0\t"
                    ]
                },
                {
                    "output_type": "stream",
                    "name": "stderr",
                    "text": [
                        "C:\\Users\\FX2\\AppData\\Roaming\\Python\\Python37\\site-packages\\ipykernel_launcher.py:25: DeprecationWarning: `np.int` is a deprecated alias for the builtin `int`. To silence this warning, use `int` by itself. Doing this will not modify any behavior and is safe. When replacing `np.int`, you may wish to use e.g. `np.int64` or `np.int32` to specify the precision. If you wish to review your current use, check the release note link for additional information.\n",
                        "Deprecated in NumPy 1.20; for more details and guidance: https://numpy.org/devdocs/release/1.20.0-notes.html#deprecations\n",
                        "C:\\Users\\FX2\\AppData\\Roaming\\Python\\Python37\\site-packages\\ipykernel_launcher.py:61: DeprecationWarning: `np.int` is a deprecated alias for the builtin `int`. To silence this warning, use `int` by itself. Doing this will not modify any behavior and is safe. When replacing `np.int`, you may wish to use e.g. `np.int64` or `np.int32` to specify the precision. If you wish to review your current use, check the release note link for additional information.\n",
                        "Deprecated in NumPy 1.20; for more details and guidance: https://numpy.org/devdocs/release/1.20.0-notes.html#deprecations\n",
                        "C:\\Users\\FX2\\AppData\\Roaming\\Python\\Python37\\site-packages\\ipykernel_launcher.py:62: DeprecationWarning: `np.int` is a deprecated alias for the builtin `int`. To silence this warning, use `int` by itself. Doing this will not modify any behavior and is safe. When replacing `np.int`, you may wish to use e.g. `np.int64` or `np.int32` to specify the precision. If you wish to review your current use, check the release note link for additional information.\n",
                        "Deprecated in NumPy 1.20; for more details and guidance: https://numpy.org/devdocs/release/1.20.0-notes.html#deprecations\n"
                    ]
                }
            ],
            "metadata": {}
        }
    ],
    "metadata": {
        "orig_nbformat": 4,
        "language_info": {
            "name": "python",
            "version": "3.7.10",
            "mimetype": "text/x-python",
            "codemirror_mode": {
                "name": "ipython",
                "version": 3
            },
            "pygments_lexer": "ipython3",
            "nbconvert_exporter": "python",
            "file_extension": ".py"
        },
        "kernelspec": {
            "name": "python3",
            "display_name": "Python 3.7.10 64-bit ('study_py37': conda)"
        },
        "interpreter": {
            "hash": "286fda5d2aa72c9e5cf23b60c7595768c7b370b5342a53e5f05387568753ea9c"
        }
    },
    "nbformat": 4,
    "nbformat_minor": 2
}