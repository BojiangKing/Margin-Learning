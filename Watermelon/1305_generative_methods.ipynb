{
 "cells": [
  {
   "cell_type": "markdown",
   "metadata": {},
   "source": [
    "# 生成式模型"
   ]
  },
  {
   "cell_type": "markdown",
   "metadata": {},
   "source": [
    "使用西瓜数据集4.0举例"
   ]
  },
  {
   "cell_type": "markdown",
   "metadata": {},
   "source": [
    "<div><img src=\"./img/0901.png\", width=900>"
   ]
  },
  {
   "cell_type": "code",
   "execution_count": 11,
   "metadata": {
    "ExecuteTime": {
     "end_time": "2020-01-29T13:27:36.584810Z",
     "start_time": "2020-01-29T13:27:36.178861Z"
    }
   },
   "outputs": [],
   "source": [
    "import pandas as pd\n",
    "import numpy as np\n",
    "import matplotlib.pyplot as plt"
   ]
  },
  {
   "cell_type": "code",
   "execution_count": 1,
   "metadata": {
    "ExecuteTime": {
     "end_time": "2020-01-29T13:27:36.584810Z",
     "start_time": "2020-01-29T13:27:36.178861Z"
    },
    "scrolled": false
   },
   "outputs": [
    {
     "data": {
      "text/html": [
       "<div>\n",
       "<style scoped>\n",
       "    .dataframe tbody tr th:only-of-type {\n",
       "        vertical-align: middle;\n",
       "    }\n",
       "\n",
       "    .dataframe tbody tr th {\n",
       "        vertical-align: top;\n",
       "    }\n",
       "\n",
       "    .dataframe thead th {\n",
       "        text-align: right;\n",
       "    }\n",
       "</style>\n",
       "<table border=\"1\" class=\"dataframe\">\n",
       "  <thead>\n",
       "    <tr style=\"text-align: right;\">\n",
       "      <th></th>\n",
       "      <th>a</th>\n",
       "      <th>b</th>\n",
       "    </tr>\n",
       "  </thead>\n",
       "  <tbody>\n",
       "    <tr>\n",
       "      <th>0</th>\n",
       "      <td>0.697</td>\n",
       "      <td>0.460</td>\n",
       "    </tr>\n",
       "    <tr>\n",
       "      <th>1</th>\n",
       "      <td>0.774</td>\n",
       "      <td>0.376</td>\n",
       "    </tr>\n",
       "    <tr>\n",
       "      <th>2</th>\n",
       "      <td>0.634</td>\n",
       "      <td>0.264</td>\n",
       "    </tr>\n",
       "    <tr>\n",
       "      <th>3</th>\n",
       "      <td>0.608</td>\n",
       "      <td>0.318</td>\n",
       "    </tr>\n",
       "    <tr>\n",
       "      <th>4</th>\n",
       "      <td>0.556</td>\n",
       "      <td>0.215</td>\n",
       "    </tr>\n",
       "    <tr>\n",
       "      <th>5</th>\n",
       "      <td>0.403</td>\n",
       "      <td>0.237</td>\n",
       "    </tr>\n",
       "    <tr>\n",
       "      <th>6</th>\n",
       "      <td>0.481</td>\n",
       "      <td>0.149</td>\n",
       "    </tr>\n",
       "    <tr>\n",
       "      <th>7</th>\n",
       "      <td>0.437</td>\n",
       "      <td>0.211</td>\n",
       "    </tr>\n",
       "    <tr>\n",
       "      <th>8</th>\n",
       "      <td>0.666</td>\n",
       "      <td>0.091</td>\n",
       "    </tr>\n",
       "    <tr>\n",
       "      <th>9</th>\n",
       "      <td>0.243</td>\n",
       "      <td>0.267</td>\n",
       "    </tr>\n",
       "    <tr>\n",
       "      <th>10</th>\n",
       "      <td>0.245</td>\n",
       "      <td>0.057</td>\n",
       "    </tr>\n",
       "    <tr>\n",
       "      <th>11</th>\n",
       "      <td>0.343</td>\n",
       "      <td>0.099</td>\n",
       "    </tr>\n",
       "    <tr>\n",
       "      <th>12</th>\n",
       "      <td>0.639</td>\n",
       "      <td>0.161</td>\n",
       "    </tr>\n",
       "    <tr>\n",
       "      <th>13</th>\n",
       "      <td>0.657</td>\n",
       "      <td>0.198</td>\n",
       "    </tr>\n",
       "    <tr>\n",
       "      <th>14</th>\n",
       "      <td>0.360</td>\n",
       "      <td>0.370</td>\n",
       "    </tr>\n",
       "    <tr>\n",
       "      <th>15</th>\n",
       "      <td>0.593</td>\n",
       "      <td>0.042</td>\n",
       "    </tr>\n",
       "    <tr>\n",
       "      <th>16</th>\n",
       "      <td>0.719</td>\n",
       "      <td>0.103</td>\n",
       "    </tr>\n",
       "    <tr>\n",
       "      <th>17</th>\n",
       "      <td>0.359</td>\n",
       "      <td>0.188</td>\n",
       "    </tr>\n",
       "    <tr>\n",
       "      <th>18</th>\n",
       "      <td>0.339</td>\n",
       "      <td>0.241</td>\n",
       "    </tr>\n",
       "    <tr>\n",
       "      <th>19</th>\n",
       "      <td>0.282</td>\n",
       "      <td>0.257</td>\n",
       "    </tr>\n",
       "    <tr>\n",
       "      <th>20</th>\n",
       "      <td>0.748</td>\n",
       "      <td>0.232</td>\n",
       "    </tr>\n",
       "    <tr>\n",
       "      <th>21</th>\n",
       "      <td>0.714</td>\n",
       "      <td>0.346</td>\n",
       "    </tr>\n",
       "    <tr>\n",
       "      <th>22</th>\n",
       "      <td>0.483</td>\n",
       "      <td>0.312</td>\n",
       "    </tr>\n",
       "    <tr>\n",
       "      <th>23</th>\n",
       "      <td>0.478</td>\n",
       "      <td>0.437</td>\n",
       "    </tr>\n",
       "    <tr>\n",
       "      <th>24</th>\n",
       "      <td>0.525</td>\n",
       "      <td>0.369</td>\n",
       "    </tr>\n",
       "    <tr>\n",
       "      <th>25</th>\n",
       "      <td>0.751</td>\n",
       "      <td>0.489</td>\n",
       "    </tr>\n",
       "    <tr>\n",
       "      <th>26</th>\n",
       "      <td>0.532</td>\n",
       "      <td>0.472</td>\n",
       "    </tr>\n",
       "    <tr>\n",
       "      <th>27</th>\n",
       "      <td>0.473</td>\n",
       "      <td>0.376</td>\n",
       "    </tr>\n",
       "    <tr>\n",
       "      <th>28</th>\n",
       "      <td>0.725</td>\n",
       "      <td>0.445</td>\n",
       "    </tr>\n",
       "    <tr>\n",
       "      <th>29</th>\n",
       "      <td>0.446</td>\n",
       "      <td>0.459</td>\n",
       "    </tr>\n",
       "  </tbody>\n",
       "</table>\n",
       "</div>"
      ],
      "text/plain": [
       "        a      b\n",
       "0   0.697  0.460\n",
       "1   0.774  0.376\n",
       "2   0.634  0.264\n",
       "3   0.608  0.318\n",
       "4   0.556  0.215\n",
       "5   0.403  0.237\n",
       "6   0.481  0.149\n",
       "7   0.437  0.211\n",
       "8   0.666  0.091\n",
       "9   0.243  0.267\n",
       "10  0.245  0.057\n",
       "11  0.343  0.099\n",
       "12  0.639  0.161\n",
       "13  0.657  0.198\n",
       "14  0.360  0.370\n",
       "15  0.593  0.042\n",
       "16  0.719  0.103\n",
       "17  0.359  0.188\n",
       "18  0.339  0.241\n",
       "19  0.282  0.257\n",
       "20  0.748  0.232\n",
       "21  0.714  0.346\n",
       "22  0.483  0.312\n",
       "23  0.478  0.437\n",
       "24  0.525  0.369\n",
       "25  0.751  0.489\n",
       "26  0.532  0.472\n",
       "27  0.473  0.376\n",
       "28  0.725  0.445\n",
       "29  0.446  0.459"
      ]
     },
     "execution_count": 1,
     "metadata": {},
     "output_type": "execute_result"
    }
   ],
   "source": [
    "data=pd.read_csv('data_watermelon/watermelon_4.csv')\n",
    "data"
   ]
  },
  {
   "cell_type": "code",
   "execution_count": 3,
   "metadata": {},
   "outputs": [
    {
     "data": {
      "text/plain": [
       "30"
      ]
     },
     "execution_count": 3,
     "metadata": {},
     "output_type": "execute_result"
    }
   ],
   "source": [
    "len(data)"
   ]
  },
  {
   "cell_type": "markdown",
   "metadata": {},
   "source": [
    "假设 \n",
    "\n",
    "x4 x25 标签为1\n",
    "\n",
    "x12 x20 标签为2\n",
    "\n",
    "x14 x17 标签为3"
   ]
  },
  {
   "cell_type": "code",
   "execution_count": 9,
   "metadata": {},
   "outputs": [
    {
     "data": {
      "text/plain": [
       "array([-1, -1, -1,  1, -1, -1, -1, -1, -1, -1, -1,  2, -1,  3, -1, -1,  3,\n",
       "       -1, -1,  2, -1, -1, -1, -1,  1, -1, -1, -1, -1, -1])"
      ]
     },
     "execution_count": 9,
     "metadata": {},
     "output_type": "execute_result"
    }
   ],
   "source": [
    "# 生成label\n",
    "Y = np.full(len(data), -1)\n",
    "Y[3] = 1\n",
    "Y[24] = 1\n",
    "Y[11] = 2\n",
    "Y[19] = 2\n",
    "Y[13] = 3\n",
    "Y[16] = 3\n",
    "Y"
   ]
  },
  {
   "cell_type": "markdown",
   "metadata": {},
   "source": [
    "查看数据分布"
   ]
  },
  {
   "cell_type": "code",
   "execution_count": 15,
   "metadata": {},
   "outputs": [
    {
     "data": {
      "text/plain": [
       "<matplotlib.collections.PathCollection at 0x22a4704c240>"
      ]
     },
     "execution_count": 15,
     "metadata": {},
     "output_type": "execute_result"
    },
    {
     "data": {
      "image/png": "[encoded data removed]",
      "text/plain": [
       "<Figure size 432x288 with 1 Axes>"
      ]
     },
     "metadata": {
      "needs_background": "light"
     },
     "output_type": "display_data"
    }
   ],
   "source": [
    "X = data.values\n",
    "plt.scatter(X[:,0],X[:,1],c=Y)"
   ]
  },
  {
   "cell_type": "code",
   "execution_count": 17,
   "metadata": {
    "ExecuteTime": {
     "end_time": "2020-01-29T13:27:36.604723Z",
     "start_time": "2020-01-29T13:27:36.598740Z"
    }
   },
   "outputs": [
    {
     "data": {
      "text/plain": [
       "30"
      ]
     },
     "execution_count": 17,
     "metadata": {},
     "output_type": "execute_result"
    }
   ],
   "source": [
    "# 数据信息\n",
    "n_samples=data.shape[0]\n",
    "n_samples"
   ]
  },
  {
   "cell_type": "code",
   "execution_count": 18,
   "metadata": {
    "ExecuteTime": {
     "end_time": "2020-01-29T13:27:36.674536Z",
     "start_time": "2020-01-29T13:27:36.670547Z"
    }
   },
   "outputs": [
    {
     "data": {
      "text/plain": [
       "2"
      ]
     },
     "execution_count": 18,
     "metadata": {},
     "output_type": "execute_result"
    }
   ],
   "source": [
    "n_features = data.shape[1]\n",
    "n_features"
   ]
  },
  {
   "cell_type": "code",
   "execution_count": 19,
   "metadata": {
    "ExecuteTime": {
     "end_time": "2020-01-29T13:27:36.990690Z",
     "start_time": "2020-01-29T13:27:36.987697Z"
    }
   },
   "outputs": [],
   "source": [
    "# 设置超参数\n",
    "n_clusters = 3"
   ]
  },
  {
   "cell_type": "code",
   "execution_count": 20,
   "metadata": {
    "ExecuteTime": {
     "end_time": "2020-01-29T13:27:37.174199Z",
     "start_time": "2020-01-29T13:27:37.168214Z"
    }
   },
   "outputs": [
    {
     "data": {
      "text/plain": [
       "array([0.33333333, 0.33333333, 0.33333333])"
      ]
     },
     "execution_count": 20,
     "metadata": {},
     "output_type": "execute_result"
    }
   ],
   "source": [
    "# 初始化设置\n",
    "import numpy as np\n",
    "alpha = np.ones(n_clusters)/n_clusters\n",
    "alpha"
   ]
  },
  {
   "cell_type": "code",
   "execution_count": 21,
   "metadata": {
    "ExecuteTime": {
     "end_time": "2020-01-29T13:27:37.342957Z",
     "start_time": "2020-01-29T13:27:37.336971Z"
    }
   },
   "outputs": [
    {
     "data": {
      "text/plain": [
       "array([[0.403, 0.237],\n",
       "       [0.714, 0.346],\n",
       "       [0.532, 0.472]])"
      ]
     },
     "execution_count": 21,
     "metadata": {},
     "output_type": "execute_result"
    }
   ],
   "source": [
    "mu = np.array([[.403,.237],[.714,.346],[.532,.472]])\n",
    "mu"
   ]
  },
  {
   "cell_type": "code",
   "execution_count": 22,
   "metadata": {
    "ExecuteTime": {
     "end_time": "2020-01-29T13:27:37.536891Z",
     "start_time": "2020-01-29T13:27:37.529884Z"
    },
    "scrolled": true
   },
   "outputs": [
    {
     "data": {
      "text/plain": [
       "array([[[0.1, 0. ],\n",
       "        [0. , 0.1]],\n",
       "\n",
       "       [[0.1, 0. ],\n",
       "        [0. , 0.1]],\n",
       "\n",
       "       [[0.1, 0. ],\n",
       "        [0. , 0.1]]])"
      ]
     },
     "execution_count": 22,
     "metadata": {},
     "output_type": "execute_result"
    }
   ],
   "source": [
    "sigma = np.full((n_clusters,n_features,n_features),np.diag(np.full(n_features,0.1)))\n",
    "sigma"
   ]
  },
  {
   "cell_type": "markdown",
   "metadata": {},
   "source": [
    "## 多元高斯分布"
   ]
  },
  {
   "cell_type": "markdown",
   "metadata": {},
   "source": [
    "<div><img src=\"./img/0906.png\", width=700>"
   ]
  },
  {
   "cell_type": "markdown",
   "metadata": {},
   "source": [
    "计算数组的行列式"
   ]
  },
  {
   "cell_type": "code",
   "execution_count": 23,
   "metadata": {
    "ExecuteTime": {
     "end_time": "2020-01-29T13:27:38.402924Z",
     "start_time": "2020-01-29T13:27:38.398928Z"
    }
   },
   "outputs": [
    {
     "data": {
      "text/plain": [
       "0.010000000000000004"
      ]
     },
     "execution_count": 23,
     "metadata": {},
     "output_type": "execute_result"
    }
   ],
   "source": [
    "np.linalg.det(sigma[0])"
   ]
  },
  {
   "cell_type": "markdown",
   "metadata": {},
   "source": [
    "行列式的结果开根号"
   ]
  },
  {
   "cell_type": "code",
   "execution_count": 24,
   "metadata": {
    "ExecuteTime": {
     "end_time": "2020-01-29T13:27:38.762927Z",
     "start_time": "2020-01-29T13:27:38.757937Z"
    },
    "scrolled": true
   },
   "outputs": [
    {
     "data": {
      "text/plain": [
       "0.10000000000000002"
      ]
     },
     "execution_count": 24,
     "metadata": {},
     "output_type": "execute_result"
    }
   ],
   "source": [
    "pow(np.linalg.det(sigma[0]),0.5)"
   ]
  },
  {
   "cell_type": "code",
   "execution_count": 25,
   "metadata": {
    "ExecuteTime": {
     "end_time": "2020-01-29T13:27:38.942513Z",
     "start_time": "2020-01-29T13:27:38.936525Z"
    }
   },
   "outputs": [
    {
     "data": {
      "text/plain": [
       "(30, 2)"
      ]
     },
     "execution_count": 25,
     "metadata": {},
     "output_type": "execute_result"
    }
   ],
   "source": [
    "X = data.values\n",
    "X.shape"
   ]
  },
  {
   "cell_type": "code",
   "execution_count": 26,
   "metadata": {
    "ExecuteTime": {
     "end_time": "2020-01-29T13:27:39.124026Z",
     "start_time": "2020-01-29T13:27:39.118042Z"
    }
   },
   "outputs": [
    {
     "data": {
      "text/plain": [
       "array([0.697, 0.46 ])"
      ]
     },
     "execution_count": 26,
     "metadata": {},
     "output_type": "execute_result"
    }
   ],
   "source": [
    "X[0]"
   ]
  },
  {
   "cell_type": "code",
   "execution_count": 27,
   "metadata": {
    "ExecuteTime": {
     "end_time": "2020-01-29T13:27:39.379381Z",
     "start_time": "2020-01-29T13:27:39.309528Z"
    }
   },
   "outputs": [
    {
     "data": {
      "text/plain": [
       "array([0.294, 0.223])"
      ]
     },
     "execution_count": 27,
     "metadata": {},
     "output_type": "execute_result"
    }
   ],
   "source": [
    "(X[0] - mu[0]).T"
   ]
  },
  {
   "cell_type": "code",
   "execution_count": 28,
   "metadata": {
    "ExecuteTime": {
     "end_time": "2020-01-29T13:27:39.663204Z",
     "start_time": "2020-01-29T13:27:39.502167Z"
    }
   },
   "outputs": [
    {
     "name": "stdout",
     "output_type": "stream",
     "text": [
      "1.591549430918953\n",
      "0.5061992057075806\n"
     ]
    },
    {
     "data": {
      "text/plain": [
       "0.805641057775526"
      ]
     },
     "execution_count": 28,
     "metadata": {},
     "output_type": "execute_result"
    }
   ],
   "source": [
    "# 计算一个多元高斯分布\n",
    "# 其中x mu 1*2 ，sigma 2*2\n",
    "def multiGaussian(x,mu,sigma):\n",
    "    a = 1/((2*np.pi)*pow(np.linalg.det(sigma),0.5))\n",
    "    print(a)\n",
    "    b = np.exp(-0.5*(x-mu).dot(np.linalg.pinv(sigma)).dot((x-mu).T))\n",
    "    print(b)\n",
    "    return a*b\n",
    "\n",
    "multiGaussian(X[0], mu[0], sigma[0])"
   ]
  },
  {
   "cell_type": "markdown",
   "metadata": {},
   "source": [
    "## 高斯混合"
   ]
  },
  {
   "cell_type": "markdown",
   "metadata": {},
   "source": [
    "<div><img src=\"./img/0907.png\", width=700>"
   ]
  },
  {
   "cell_type": "code",
   "execution_count": 29,
   "metadata": {
    "ExecuteTime": {
     "end_time": "2020-01-29T13:27:40.420708Z",
     "start_time": "2020-01-29T13:27:40.416703Z"
    }
   },
   "outputs": [],
   "source": [
    "gamma=np.zeros((n_samples,n_clusters))"
   ]
  },
  {
   "cell_type": "code",
   "execution_count": 30,
   "metadata": {
    "ExecuteTime": {
     "end_time": "2020-01-29T13:27:40.711482Z",
     "start_time": "2020-01-29T13:27:40.707461Z"
    }
   },
   "outputs": [
    {
     "data": {
      "text/plain": [
       "array([0., 0., 0.])"
      ]
     },
     "execution_count": 30,
     "metadata": {},
     "output_type": "execute_result"
    }
   ],
   "source": [
    "p=np.zeros(n_clusters)\n",
    "p"
   ]
  },
  {
   "cell_type": "code",
   "execution_count": 31,
   "metadata": {
    "ExecuteTime": {
     "end_time": "2020-01-29T13:27:40.934795Z",
     "start_time": "2020-01-29T13:27:40.927812Z"
    }
   },
   "outputs": [
    {
     "data": {
      "text/plain": [
       "array([0., 0., 0.])"
      ]
     },
     "execution_count": 31,
     "metadata": {},
     "output_type": "execute_result"
    }
   ],
   "source": [
    "g=np.zeros(n_clusters)\n",
    "g"
   ]
  },
  {
   "cell_type": "code",
   "execution_count": 32,
   "metadata": {
    "ExecuteTime": {
     "end_time": "2020-01-29T13:27:41.110325Z",
     "start_time": "2020-01-29T13:27:41.102345Z"
    }
   },
   "outputs": [
    {
     "name": "stdout",
     "output_type": "stream",
     "text": [
      "1.591549430918953\n",
      "0.5061992057075806\n"
     ]
    },
    {
     "data": {
      "text/plain": [
       "0.805641057775526"
      ]
     },
     "execution_count": 32,
     "metadata": {},
     "output_type": "execute_result"
    }
   ],
   "source": [
    "# 计算x_0的高斯混合\n",
    "## u_0时\n",
    "p[0]=multiGaussian(X[0],mu[0],sigma[0])\n",
    "p[0]"
   ]
  },
  {
   "cell_type": "code",
   "execution_count": 33,
   "metadata": {
    "ExecuteTime": {
     "end_time": "2020-01-29T13:27:41.300816Z",
     "start_time": "2020-01-29T13:27:41.293833Z"
    }
   },
   "outputs": [
    {
     "data": {
      "text/plain": [
       "0.26854701925850866"
      ]
     },
     "execution_count": 33,
     "metadata": {},
     "output_type": "execute_result"
    }
   ],
   "source": [
    "g[0]=alpha[0]*p[0]\n",
    "g[0]"
   ]
  },
  {
   "cell_type": "code",
   "execution_count": 35,
   "metadata": {
    "ExecuteTime": {
     "end_time": "2020-01-29T13:27:41.686783Z",
     "start_time": "2020-01-29T13:27:41.663845Z"
    }
   },
   "outputs": [
    {
     "name": "stdout",
     "output_type": "stream",
     "text": [
      "1.591549430918953\n",
      "0.5061992057075806\n",
      "1.591549430918953\n",
      "0.9357330932066377\n",
      "1.591549430918953\n",
      "0.8721053919922435\n",
      "1.591549430918953\n",
      "0.45620637276246057\n",
      "1.591549430918953\n",
      "0.9777512371933363\n",
      "1.591549430918953\n",
      "0.7125537008966317\n",
      "1.591549430918953\n",
      "0.7630360508449829\n",
      "1.591549430918953\n",
      "0.9364866616172601\n",
      "1.591549430918953\n",
      "0.7646477566639486\n",
      "1.591549430918953\n",
      "0.7843264146990305\n",
      "1.591549430918953\n",
      "0.941670361839556\n",
      "1.591549430918953\n",
      "0.8628969535092075\n",
      "1.591549430918953\n",
      "0.8873950661028409\n",
      "1.591549430918953\n",
      "0.8100777891007138\n",
      "1.591549430918953\n",
      "0.7166806034809633\n",
      "1.591549430918953\n",
      "1.0\n",
      "1.591549430918953\n",
      "0.5809968173663782\n",
      "1.591549430918953\n",
      "0.6981439258379284\n",
      "1.591549430918953\n",
      "0.9331960234891656\n",
      "1.591549430918953\n",
      "0.6278273943834023\n",
      "1.591549430918953\n",
      "0.585874310272774\n",
      "1.591549430918953\n",
      "0.9908818249969203\n",
      "1.591549430918953\n",
      "0.6220281064781281\n",
      "1.591549430918953\n",
      "0.6799540885021207\n",
      "1.591549430918953\n",
      "0.6360837766655492\n",
      "1.591549430918953\n",
      "0.71416232253139\n",
      "1.591549430918953\n",
      "0.44238045908119933\n",
      "1.591549430918953\n",
      "0.8759029341062031\n",
      "1.591549430918953\n",
      "0.3196879228944747\n",
      "1.591549430918953\n",
      "0.5338021576302131\n",
      "1.591549430918953\n",
      "0.7506468331072782\n",
      "1.591549430918953\n",
      "0.21927908494375167\n",
      "1.591549430918953\n",
      "0.2799987892302263\n",
      "1.591549430918953\n",
      "0.892954188583451\n",
      "1.591549430918953\n",
      "0.3703710270414279\n",
      "1.591549430918953\n",
      "0.4171747834650264\n",
      "1.591549430918953\n",
      "0.7353858143553658\n",
      "1.591549430918953\n",
      "0.8193450314683925\n",
      "1.591549430918953\n",
      "0.582253126817644\n",
      "1.591549430918953\n",
      "0.718790744843065\n",
      "1.591549430918953\n",
      "0.8818220506179072\n",
      "1.591549430918953\n",
      "0.6353971770172978\n",
      "1.591549430918953\n",
      "0.9069300084830665\n",
      "1.591549430918953\n",
      "0.5328794782453047\n",
      "1.591549430918953\n",
      "0.8187798783969114\n",
      "1.591549430918953\n",
      "0.6903027565616537\n",
      "1.591549430918953\n",
      "0.5855023981803371\n",
      "1.591549430918953\n",
      "0.38941681700867575\n",
      "1.591549430918953\n",
      "0.5548485973607057\n",
      "1.591549430918953\n",
      "0.7442561617354493\n",
      "1.591549430918953\n",
      "0.4250068468296823\n",
      "1.591549430918953\n",
      "0.9785484292632912\n",
      "1.591549430918953\n",
      "0.4700364660252523\n",
      "1.591549430918953\n",
      "0.5752646978636121\n",
      "1.591549430918953\n",
      "0.9796499157161697\n",
      "1.591549430918953\n",
      "0.46848555978930906\n",
      "1.591549430918953\n",
      "0.6356863485143673\n",
      "1.591549430918953\n",
      "0.9275533184067335\n",
      "1.591549430918953\n",
      "0.3780514430112332\n",
      "1.591549430918953\n",
      "0.5806396141749378\n",
      "1.591549430918953\n",
      "0.5514246924612568\n",
      "1.591549430918953\n",
      "0.9316854698099515\n",
      "1.591549430918953\n",
      "0.5937600484922919\n",
      "1.591549430918953\n",
      "0.5809968173663781\n",
      "1.591549430918953\n",
      "1.0\n",
      "1.591549430918953\n",
      "0.7827045382418681\n",
      "1.591549430918953\n",
      "0.9416468203747795\n",
      "1.591549430918953\n",
      "0.7614087066844702\n",
      "1.591549430918953\n",
      "0.8693538886184958\n",
      "1.591549430918953\n",
      "0.7960247505224358\n",
      "1.591549430918953\n",
      "0.726232549014799\n",
      "1.591549430918953\n",
      "0.9795078767764629\n",
      "1.591549430918953\n",
      "0.8508324974847989\n",
      "1.591549430918953\n",
      "0.8342267759300478\n",
      "1.591549430918953\n",
      "0.9481050221542031\n",
      "1.591549430918953\n",
      "0.39730938281179\n",
      "1.591549430918953\n",
      "0.8966497153923099\n",
      "1.591549430918953\n",
      "0.7856451905372531\n",
      "1.591549430918953\n",
      "0.6981439258379283\n",
      "1.591549430918953\n",
      "0.7827045382418683\n",
      "1.591549430918953\n",
      "1.0\n",
      "1.591549430918953\n",
      "0.8859409309112096\n",
      "1.591549430918953\n",
      "0.7446023213265238\n",
      "1.591549430918953\n",
      "0.9384881965180324\n",
      "1.591549430918953\n",
      "0.4796301466029168\n",
      "1.591549430918953\n",
      "0.9516004763266722\n",
      "1.591549430918953\n",
      "0.8270501044513824\n",
      "1.591549430918953\n",
      "0.7744013497956862\n",
      "1.591549430918953\n",
      "0.6551015612652057\n",
      "1.591549430918953\n",
      "0.9628814303982574\n"
     ]
    },
    {
     "ename": "AttributeError",
     "evalue": "'tuple' object has no attribute 'shape'",
     "output_type": "error",
     "traceback": [
      "\u001b[1;31m---------------------------------------------------------------------------\u001b[0m",
      "\u001b[1;31mAttributeError\u001b[0m                            Traceback (most recent call last)",
      "\u001b[1;32m<ipython-input-35-53312d19d91e>\u001b[0m in \u001b[0;36m<module>\u001b[1;34m\u001b[0m\n\u001b[0;32m     18\u001b[0m     \u001b[1;32mreturn\u001b[0m \u001b[0mgamma\u001b[0m\u001b[1;33m,\u001b[0m \u001b[0mp\u001b[0m\u001b[1;33m,\u001b[0m \u001b[0mg\u001b[0m\u001b[1;33m\u001b[0m\u001b[1;33m\u001b[0m\u001b[0m\n\u001b[0;32m     19\u001b[0m \u001b[0mgamma\u001b[0m \u001b[1;33m=\u001b[0m \u001b[0mcomputeGamma\u001b[0m\u001b[1;33m(\u001b[0m\u001b[0mX\u001b[0m\u001b[1;33m,\u001b[0m\u001b[0mmu\u001b[0m\u001b[1;33m,\u001b[0m\u001b[0msigma\u001b[0m\u001b[1;33m,\u001b[0m\u001b[0malpha\u001b[0m\u001b[1;33m,\u001b[0m\u001b[0mmultiGaussian\u001b[0m\u001b[1;33m)\u001b[0m\u001b[1;33m\u001b[0m\u001b[1;33m\u001b[0m\u001b[0m\n\u001b[1;32m---> 20\u001b[1;33m \u001b[0mgamma\u001b[0m\u001b[1;33m.\u001b[0m\u001b[0mshape\u001b[0m\u001b[1;33m\u001b[0m\u001b[1;33m\u001b[0m\u001b[0m\n\u001b[0m",
      "\u001b[1;31mAttributeError\u001b[0m: 'tuple' object has no attribute 'shape'"
     ]
    }
   ],
   "source": [
    "# 计算所有x在所有cluster上的高斯混合\n",
    "def computeGamma(X,mu,sigma,alpha,multiGaussian):\n",
    "    n_samples = X.shape[0] # 30个样本\n",
    "    n_clusters = len(alpha) # 3个聚类\n",
    "    gamma=np.zeros((n_samples,n_clusters)) # 存最后的结果，每个x对应着三个gamma\n",
    "    p=np.zeros(n_clusters) # 多元高斯概率 一个x对应三个\n",
    "    g=np.zeros(n_clusters) # a*多元高斯概率 一个x对应三个\n",
    "    for i in range(n_samples): # 每个x\n",
    "        # 对于一个x\n",
    "        for j in range(n_clusters):\n",
    "            \n",
    "            p[j]=multiGaussian(X[i],mu[j],sigma[j])\n",
    "            g[j]=alpha[j]*p[j]\n",
    "        for k in range(n_clusters):\n",
    "            # 每一个x，每一个聚类，算一个gamma\n",
    "            gamma[i,k]=g[k]/np.sum(g)\n",
    "            # 每个x算出三个\n",
    "    return gamma, p, g\n",
    "gamma = computeGamma(X,mu,sigma,alpha,multiGaussian)\n",
    "gamma.shape"
   ]
  },
  {
   "cell_type": "code",
   "execution_count": 59,
   "metadata": {},
   "outputs": [
    {
     "data": {
      "text/plain": [
       "array([[1, 1, 1],\n",
       "       [1, 1, 1],\n",
       "       [1, 1, 1],\n",
       "       [1, 0, 0],\n",
       "       [1, 1, 1],\n",
       "       [1, 1, 1],\n",
       "       [1, 1, 1],\n",
       "       [1, 1, 1],\n",
       "       [1, 1, 1],\n",
       "       [1, 1, 1],\n",
       "       [1, 1, 1],\n",
       "       [0, 1, 0],\n",
       "       [1, 1, 1],\n",
       "       [0, 0, 1],\n",
       "       [1, 1, 1],\n",
       "       [1, 1, 1],\n",
       "       [0, 0, 1],\n",
       "       [1, 1, 1],\n",
       "       [1, 1, 1],\n",
       "       [0, 1, 0],\n",
       "       [1, 1, 1],\n",
       "       [1, 1, 1],\n",
       "       [1, 1, 1],\n",
       "       [1, 1, 1],\n",
       "       [1, 0, 0],\n",
       "       [1, 1, 1],\n",
       "       [1, 1, 1],\n",
       "       [1, 1, 1],\n",
       "       [1, 1, 1],\n",
       "       [1, 1, 1]])"
      ]
     },
     "execution_count": 59,
     "metadata": {},
     "output_type": "execute_result"
    }
   ],
   "source": [
    "p_label = []\n",
    "for i in Y:\n",
    "    if i == -1:\n",
    "        p_label.append([1,1,1])\n",
    "    elif i == 1:\n",
    "        p_label.append([1,0,0])\n",
    "    elif i == 2:\n",
    "        p_label.append([0,1,0])\n",
    "    elif i == 3:\n",
    "        p_label.append([0,0,1])\n",
    "p_label = np.array(p_label)\n",
    "p_label"
   ]
  },
  {
   "cell_type": "code",
   "execution_count": 58,
   "metadata": {
    "scrolled": true
   },
   "outputs": [
    {
     "data": {
      "text/plain": [
       "array([0., 0., 0.])"
      ]
     },
     "execution_count": 58,
     "metadata": {},
     "output_type": "execute_result"
    }
   ],
   "source": [
    "p * np.array([0,1,0])"
   ]
  },
  {
   "cell_type": "code",
   "execution_count": 56,
   "metadata": {},
   "outputs": [
    {
     "data": {
      "text/plain": [
       "array([0.80564106, 0.        , 0.        ])"
      ]
     },
     "execution_count": 56,
     "metadata": {},
     "output_type": "execute_result"
    }
   ],
   "source": [
    "p * p_label[1]"
   ]
  },
  {
   "cell_type": "code",
   "execution_count": 37,
   "metadata": {},
   "outputs": [
    {
     "data": {
      "text/plain": [
       "array([0.26854702, 0.        , 0.        ])"
      ]
     },
     "execution_count": 37,
     "metadata": {},
     "output_type": "execute_result"
    }
   ],
   "source": [
    "g"
   ]
  },
  {
   "cell_type": "markdown",
   "metadata": {},
   "source": [
    "## 全部整合"
   ]
  },
  {
   "cell_type": "code",
   "execution_count": 95,
   "metadata": {
    "ExecuteTime": {
     "end_time": "2020-01-29T13:37:48.111279Z",
     "start_time": "2020-01-29T13:37:47.905629Z"
    }
   },
   "outputs": [],
   "source": [
    "\n",
    " \n",
    "def multiGaussian(x,mu,sigma):\n",
    "    return 1/((2*np.pi)*pow(np.linalg.det(sigma),0.5))*np.exp(-0.5*(x-mu).dot(np.linalg.pinv(sigma)).dot((x-mu).T))\n",
    " \n",
    "def computeGamma(X,mu,sigma,alpha,multiGaussian, p_label):\n",
    "    n_samples=X.shape[0]\n",
    "    n_clusters=len(alpha)\n",
    "    gamma=np.zeros((n_samples,n_clusters))\n",
    "    p=np.zeros(n_clusters)\n",
    "    g=np.zeros(n_clusters)\n",
    "    for i in range(n_samples):\n",
    "        for j in range(n_clusters):\n",
    "            # 对于每一个聚类\n",
    "            p[j]=multiGaussian(X[i],mu[j],sigma[j])\n",
    "            g[j]=alpha[j]*(p[j]*p_label[i][j]) # 区别考虑有标记样本和无标记样本\n",
    "        for k in range(n_clusters):\n",
    "            gamma[i,k]=g[k]/np.sum(g)\n",
    "    return gamma\n",
    " \n",
    "class MyGMM():\n",
    "    def __init__(self,n_clusters,ITER=50):\n",
    "        self.n_clusters=n_clusters\n",
    "        self.ITER=ITER\n",
    "        self.mu=0\n",
    "        self.sigma=0\n",
    "        self.alpha=0\n",
    "      \n",
    "    def fit(self,data, Y):\n",
    "        n_samples=data.shape[0]\n",
    "        n_features=data.shape[1]\n",
    "        '''\n",
    "        mu=data[np.random.choice(range(n_samples),self.n_clusters)]\n",
    "        '''\n",
    "        alpha=np.ones(self.n_clusters)/self.n_clusters\n",
    "        \n",
    "        mu=np.array([[.403,.237],[.714,.346],[.532,.472]])\n",
    "        \n",
    "        sigma=np.full((self.n_clusters,n_features,n_features),np.diag(np.full(n_features,0.1)))\n",
    "        \n",
    "        p_label = []\n",
    "        for i in Y:\n",
    "            if i == -1:\n",
    "                p_label.append([1,1,1])\n",
    "            elif i == 1:\n",
    "                p_label.append([1,0,0])\n",
    "            elif i == 2:\n",
    "                p_label.append([0,1,0])\n",
    "            elif i == 3:\n",
    "                p_label.append([0,0,1])\n",
    "        p_label = np.array(p_label)\n",
    "\n",
    "        for i in range(self.ITER):\n",
    "            gamma=computeGamma(data,mu,sigma,alpha,multiGaussian, p_label)\n",
    "            alpha=np.sum(gamma,axis=0)/n_samples\n",
    "            for i in range(self.n_clusters):\n",
    "                mu[i]=np.sum(data*gamma[:,i].reshape((n_samples,1)),axis=0)/np.sum(gamma,axis=0)[i]\n",
    "                sigma[i]=0\n",
    "                for j in range(n_samples):\n",
    "                    sigma[i]+=(data[j].reshape((1,n_features))-mu[i]).T.dot((data[j]-mu[i]).reshape((1,n_features)))*gamma[j,i]\n",
    "                sigma[i]=sigma[i]/np.sum(gamma,axis=0)[i]\n",
    "        self.mu=mu\n",
    "        self.sigma=sigma\n",
    "        self.alpha=alpha\n",
    "        \n",
    "    def predict(self,data, Y): # 输入中需要有Y\n",
    "        p_label = []\n",
    "        for i in Y:\n",
    "            if i == -1:\n",
    "                p_label.append([1,1,1])\n",
    "            elif i == 1:\n",
    "                p_label.append([1,0,0])\n",
    "            elif i == 2:\n",
    "                p_label.append([0,1,0])\n",
    "            elif i == 3:\n",
    "                p_label.append([0,0,1])\n",
    "        p_label = np.array(p_label)\n",
    "        pred=computeGamma(data,self.mu,self.sigma,self.alpha,multiGaussian, p_label)\n",
    "        cluster_results=np.argmax(pred,axis=1)\n",
    "        return cluster_results\n"
   ]
  },
  {
   "cell_type": "code",
   "execution_count": 96,
   "metadata": {
    "ExecuteTime": {
     "end_time": "2020-01-29T13:37:51.221270Z",
     "start_time": "2020-01-29T13:37:50.308369Z"
    }
   },
   "outputs": [],
   "source": [
    "model1=MyGMM(3)"
   ]
  },
  {
   "cell_type": "code",
   "execution_count": 97,
   "metadata": {
    "ExecuteTime": {
     "end_time": "2020-01-29T13:37:51.221270Z",
     "start_time": "2020-01-29T13:37:50.308369Z"
    }
   },
   "outputs": [],
   "source": [
    "model1.fit(X, Y)"
   ]
  },
  {
   "cell_type": "code",
   "execution_count": 98,
   "metadata": {
    "ExecuteTime": {
     "end_time": "2020-01-29T13:37:51.221270Z",
     "start_time": "2020-01-29T13:37:50.308369Z"
    }
   },
   "outputs": [
    {
     "data": {
      "image/png": "[encoded data removed]",
      "text/plain": [
       "<Figure size 432x288 with 1 Axes>"
      ]
     },
     "metadata": {
      "needs_background": "light"
     },
     "output_type": "display_data"
    }
   ],
   "source": [
    "result=model1.predict(X,Y)\n",
    "plt.scatter(X[:,0],X[:,1],c=result)\n",
    "plt.scatter(model1.mu[:,0],model1.mu[:,1],marker='x',color='red');"
   ]
  }
 ],
 "metadata": {
  "kernelspec": {
   "display_name": "Python 3",
   "language": "python",
   "name": "python3"
  },
  "language_info": {
   "codemirror_mode": {
    "name": "ipython",
    "version": 3
   },
   "file_extension": ".py",
   "mimetype": "text/x-python",
   "name": "python",
   "nbconvert_exporter": "python",
   "pygments_lexer": "ipython3",
   "version": "3.7.3"
  },
  "nbTranslate": {
   "displayLangs": [
    "*"
   ],
   "hotkey": "alt-t",
   "langInMainMenu": true,
   "sourceLang": "en",
   "targetLang": "fr",
   "useGoogleTranslate": true
  },
  "toc": {
   "base_numbering": 1,
   "nav_menu": {},
   "number_sections": true,
   "sideBar": true,
   "skip_h1_title": false,
   "title_cell": "Table of Contents",
   "title_sidebar": "Contents",
   "toc_cell": false,
   "toc_position": {},
   "toc_section_display": true,
   "toc_window_display": false
  }
 },
 "nbformat": 4,
 "nbformat_minor": 2
}
