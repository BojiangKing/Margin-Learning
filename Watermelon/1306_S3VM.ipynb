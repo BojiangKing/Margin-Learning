{
 "cells": [
  {
   "cell_type": "markdown",
   "metadata": {},
   "source": [
    "# 半监督SVM"
   ]
  },
  {
   "cell_type": "markdown",
   "metadata": {},
   "source": [
    "虽然书上的我实现不了，我决定自己实现一种算法\n",
    "\n",
    "起名为掉包侠半监督SVM算法"
   ]
  },
  {
   "cell_type": "markdown",
   "metadata": {},
   "source": [
    "## 生成数据集"
   ]
  },
  {
   "cell_type": "markdown",
   "metadata": {},
   "source": [
    "使用西瓜数据集4.0举例"
   ]
  },
  {
   "cell_type": "markdown",
   "metadata": {},
   "source": [
    "<div><img src=\"./img/0901.png\", width=900>"
   ]
  },
  {
   "cell_type": "code",
   "execution_count": 266,
   "metadata": {
    "ExecuteTime": {
     "end_time": "2020-01-29T13:27:36.584810Z",
     "start_time": "2020-01-29T13:27:36.178861Z"
    }
   },
   "outputs": [],
   "source": [
    "import pandas as pd\n",
    "import numpy as np\n",
    "import matplotlib.pyplot as plt"
   ]
  },
  {
   "cell_type": "code",
   "execution_count": 267,
   "metadata": {
    "ExecuteTime": {
     "end_time": "2020-01-29T13:27:36.584810Z",
     "start_time": "2020-01-29T13:27:36.178861Z"
    },
    "scrolled": false
   },
   "outputs": [
    {
     "data": {
      "text/html": [
       "<div>\n",
       "<style scoped>\n",
       "    .dataframe tbody tr th:only-of-type {\n",
       "        vertical-align: middle;\n",
       "    }\n",
       "\n",
       "    .dataframe tbody tr th {\n",
       "        vertical-align: top;\n",
       "    }\n",
       "\n",
       "    .dataframe thead th {\n",
       "        text-align: right;\n",
       "    }\n",
       "</style>\n",
       "<table border=\"1\" class=\"dataframe\">\n",
       "  <thead>\n",
       "    <tr style=\"text-align: right;\">\n",
       "      <th></th>\n",
       "      <th>a</th>\n",
       "      <th>b</th>\n",
       "    </tr>\n",
       "  </thead>\n",
       "  <tbody>\n",
       "    <tr>\n",
       "      <th>0</th>\n",
       "      <td>0.697</td>\n",
       "      <td>0.460</td>\n",
       "    </tr>\n",
       "    <tr>\n",
       "      <th>1</th>\n",
       "      <td>0.774</td>\n",
       "      <td>0.376</td>\n",
       "    </tr>\n",
       "    <tr>\n",
       "      <th>2</th>\n",
       "      <td>0.634</td>\n",
       "      <td>0.264</td>\n",
       "    </tr>\n",
       "    <tr>\n",
       "      <th>3</th>\n",
       "      <td>0.608</td>\n",
       "      <td>0.318</td>\n",
       "    </tr>\n",
       "    <tr>\n",
       "      <th>4</th>\n",
       "      <td>0.556</td>\n",
       "      <td>0.215</td>\n",
       "    </tr>\n",
       "    <tr>\n",
       "      <th>5</th>\n",
       "      <td>0.403</td>\n",
       "      <td>0.237</td>\n",
       "    </tr>\n",
       "    <tr>\n",
       "      <th>6</th>\n",
       "      <td>0.481</td>\n",
       "      <td>0.149</td>\n",
       "    </tr>\n",
       "    <tr>\n",
       "      <th>7</th>\n",
       "      <td>0.437</td>\n",
       "      <td>0.211</td>\n",
       "    </tr>\n",
       "    <tr>\n",
       "      <th>8</th>\n",
       "      <td>0.666</td>\n",
       "      <td>0.091</td>\n",
       "    </tr>\n",
       "    <tr>\n",
       "      <th>9</th>\n",
       "      <td>0.243</td>\n",
       "      <td>0.267</td>\n",
       "    </tr>\n",
       "    <tr>\n",
       "      <th>10</th>\n",
       "      <td>0.245</td>\n",
       "      <td>0.057</td>\n",
       "    </tr>\n",
       "    <tr>\n",
       "      <th>11</th>\n",
       "      <td>0.343</td>\n",
       "      <td>0.099</td>\n",
       "    </tr>\n",
       "    <tr>\n",
       "      <th>12</th>\n",
       "      <td>0.639</td>\n",
       "      <td>0.161</td>\n",
       "    </tr>\n",
       "    <tr>\n",
       "      <th>13</th>\n",
       "      <td>0.657</td>\n",
       "      <td>0.198</td>\n",
       "    </tr>\n",
       "    <tr>\n",
       "      <th>14</th>\n",
       "      <td>0.360</td>\n",
       "      <td>0.370</td>\n",
       "    </tr>\n",
       "    <tr>\n",
       "      <th>15</th>\n",
       "      <td>0.593</td>\n",
       "      <td>0.042</td>\n",
       "    </tr>\n",
       "    <tr>\n",
       "      <th>16</th>\n",
       "      <td>0.719</td>\n",
       "      <td>0.103</td>\n",
       "    </tr>\n",
       "    <tr>\n",
       "      <th>17</th>\n",
       "      <td>0.359</td>\n",
       "      <td>0.188</td>\n",
       "    </tr>\n",
       "    <tr>\n",
       "      <th>18</th>\n",
       "      <td>0.339</td>\n",
       "      <td>0.241</td>\n",
       "    </tr>\n",
       "    <tr>\n",
       "      <th>19</th>\n",
       "      <td>0.282</td>\n",
       "      <td>0.257</td>\n",
       "    </tr>\n",
       "    <tr>\n",
       "      <th>20</th>\n",
       "      <td>0.748</td>\n",
       "      <td>0.232</td>\n",
       "    </tr>\n",
       "    <tr>\n",
       "      <th>21</th>\n",
       "      <td>0.714</td>\n",
       "      <td>0.346</td>\n",
       "    </tr>\n",
       "    <tr>\n",
       "      <th>22</th>\n",
       "      <td>0.483</td>\n",
       "      <td>0.312</td>\n",
       "    </tr>\n",
       "    <tr>\n",
       "      <th>23</th>\n",
       "      <td>0.478</td>\n",
       "      <td>0.437</td>\n",
       "    </tr>\n",
       "    <tr>\n",
       "      <th>24</th>\n",
       "      <td>0.525</td>\n",
       "      <td>0.369</td>\n",
       "    </tr>\n",
       "    <tr>\n",
       "      <th>25</th>\n",
       "      <td>0.751</td>\n",
       "      <td>0.489</td>\n",
       "    </tr>\n",
       "    <tr>\n",
       "      <th>26</th>\n",
       "      <td>0.532</td>\n",
       "      <td>0.472</td>\n",
       "    </tr>\n",
       "    <tr>\n",
       "      <th>27</th>\n",
       "      <td>0.473</td>\n",
       "      <td>0.376</td>\n",
       "    </tr>\n",
       "    <tr>\n",
       "      <th>28</th>\n",
       "      <td>0.725</td>\n",
       "      <td>0.445</td>\n",
       "    </tr>\n",
       "    <tr>\n",
       "      <th>29</th>\n",
       "      <td>0.446</td>\n",
       "      <td>0.459</td>\n",
       "    </tr>\n",
       "  </tbody>\n",
       "</table>\n",
       "</div>"
      ],
      "text/plain": [
       "        a      b\n",
       "0   0.697  0.460\n",
       "1   0.774  0.376\n",
       "2   0.634  0.264\n",
       "3   0.608  0.318\n",
       "4   0.556  0.215\n",
       "5   0.403  0.237\n",
       "6   0.481  0.149\n",
       "7   0.437  0.211\n",
       "8   0.666  0.091\n",
       "9   0.243  0.267\n",
       "10  0.245  0.057\n",
       "11  0.343  0.099\n",
       "12  0.639  0.161\n",
       "13  0.657  0.198\n",
       "14  0.360  0.370\n",
       "15  0.593  0.042\n",
       "16  0.719  0.103\n",
       "17  0.359  0.188\n",
       "18  0.339  0.241\n",
       "19  0.282  0.257\n",
       "20  0.748  0.232\n",
       "21  0.714  0.346\n",
       "22  0.483  0.312\n",
       "23  0.478  0.437\n",
       "24  0.525  0.369\n",
       "25  0.751  0.489\n",
       "26  0.532  0.472\n",
       "27  0.473  0.376\n",
       "28  0.725  0.445\n",
       "29  0.446  0.459"
      ]
     },
     "execution_count": 267,
     "metadata": {},
     "output_type": "execute_result"
    }
   ],
   "source": [
    "data=pd.read_csv('data_watermelon/watermelon_4.csv')\n",
    "data"
   ]
  },
  {
   "cell_type": "markdown",
   "metadata": {},
   "source": [
    "注意是二分类问题 假设 "
   ]
  },
  {
   "cell_type": "code",
   "execution_count": 328,
   "metadata": {},
   "outputs": [
    {
     "data": {
      "text/plain": [
       "array([-1, -1, -1,  0, -1, -1, -1, -1, -1, -1, -1,  1, -1,  0, -1, -1,  1,\n",
       "       -1, -1,  1, -1, -1, -1, -1,  0, -1, -1, -1, -1, -1])"
      ]
     },
     "execution_count": 328,
     "metadata": {},
     "output_type": "execute_result"
    }
   ],
   "source": [
    "# 生成label\n",
    "Y = np.full(len(data), -1)\n",
    "Y[3] = 0\n",
    "Y[24] = 0\n",
    "Y[11] = 1\n",
    "Y[19] = 1\n",
    "Y[13] = 0\n",
    "Y[16] = 1\n",
    "Y"
   ]
  },
  {
   "cell_type": "markdown",
   "metadata": {},
   "source": [
    "查看数据分布"
   ]
  },
  {
   "cell_type": "code",
   "execution_count": 329,
   "metadata": {
    "scrolled": true
   },
   "outputs": [
    {
     "data": {
      "image/png": "[encoded data removed]",
      "text/plain": [
       "<Figure size 432x288 with 1 Axes>"
      ]
     },
     "metadata": {
      "needs_background": "light"
     },
     "output_type": "display_data"
    }
   ],
   "source": [
    "X = data.values\n",
    "plt.scatter(X[:,0],X[:,1],c=Y);"
   ]
  },
  {
   "cell_type": "markdown",
   "metadata": {},
   "source": [
    "## 拆分已标记数据与未标记数据"
   ]
  },
  {
   "cell_type": "code",
   "execution_count": 270,
   "metadata": {},
   "outputs": [
    {
     "data": {
      "text/plain": [
       "array([[0.608, 0.318],\n",
       "       [0.343, 0.099],\n",
       "       [0.657, 0.198],\n",
       "       [0.719, 0.103],\n",
       "       [0.282, 0.257],\n",
       "       [0.525, 0.369]])"
      ]
     },
     "execution_count": 270,
     "metadata": {},
     "output_type": "execute_result"
    }
   ],
   "source": [
    "X_labeled = X[Y!=-1]\n",
    "X_labeled"
   ]
  },
  {
   "cell_type": "code",
   "execution_count": 271,
   "metadata": {},
   "outputs": [
    {
     "data": {
      "text/plain": [
       "array([0, 1, 0, 1, 1, 0])"
      ]
     },
     "execution_count": 271,
     "metadata": {},
     "output_type": "execute_result"
    }
   ],
   "source": [
    "Y_labeled = Y[Y!=-1]\n",
    "Y_labeled"
   ]
  },
  {
   "cell_type": "code",
   "execution_count": 272,
   "metadata": {},
   "outputs": [
    {
     "data": {
      "text/plain": [
       "array([[0.697, 0.46 ],\n",
       "       [0.774, 0.376],\n",
       "       [0.634, 0.264],\n",
       "       [0.556, 0.215],\n",
       "       [0.403, 0.237],\n",
       "       [0.481, 0.149],\n",
       "       [0.437, 0.211],\n",
       "       [0.666, 0.091],\n",
       "       [0.243, 0.267],\n",
       "       [0.245, 0.057],\n",
       "       [0.639, 0.161],\n",
       "       [0.36 , 0.37 ],\n",
       "       [0.593, 0.042],\n",
       "       [0.359, 0.188],\n",
       "       [0.339, 0.241],\n",
       "       [0.748, 0.232],\n",
       "       [0.714, 0.346],\n",
       "       [0.483, 0.312],\n",
       "       [0.478, 0.437],\n",
       "       [0.751, 0.489],\n",
       "       [0.532, 0.472],\n",
       "       [0.473, 0.376],\n",
       "       [0.725, 0.445],\n",
       "       [0.446, 0.459]])"
      ]
     },
     "execution_count": 272,
     "metadata": {},
     "output_type": "execute_result"
    }
   ],
   "source": [
    "X_unlabeled = X[Y==-1]\n",
    "X_unlabeled"
   ]
  },
  {
   "cell_type": "code",
   "execution_count": 273,
   "metadata": {},
   "outputs": [
    {
     "data": {
      "text/plain": [
       "array([-1, -1, -1, -1, -1, -1, -1, -1, -1, -1, -1, -1, -1, -1, -1, -1, -1,\n",
       "       -1, -1, -1, -1, -1, -1, -1])"
      ]
     },
     "execution_count": 273,
     "metadata": {},
     "output_type": "execute_result"
    }
   ],
   "source": [
    "Y_unlabeled = Y[Y==-1]\n",
    "Y_unlabeled"
   ]
  },
  {
   "cell_type": "markdown",
   "metadata": {},
   "source": [
    "## 首先使用已标记数据训练一个SVM"
   ]
  },
  {
   "cell_type": "code",
   "execution_count": 274,
   "metadata": {},
   "outputs": [
    {
     "data": {
      "text/plain": [
       "SVC(C=1.0, break_ties=False, cache_size=200, class_weight=None, coef0=0.0,\n",
       "    decision_function_shape='ovr', degree=3, gamma='scale', kernel='rbf',\n",
       "    max_iter=-1, probability=True, random_state=None, shrinking=True, tol=0.001,\n",
       "    verbose=False)"
      ]
     },
     "execution_count": 274,
     "metadata": {},
     "output_type": "execute_result"
    }
   ],
   "source": [
    "from sklearn import svm\n",
    "clf = svm.SVC(probability=True)\n",
    "clf.fit(X_labeled, Y_labeled)"
   ]
  },
  {
   "cell_type": "code",
   "execution_count": 275,
   "metadata": {},
   "outputs": [
    {
     "data": {
      "text/plain": [
       "array([0, 0, 0, 0, 1, 1, 1, 1, 1, 1, 0, 1, 1, 1, 1, 0, 0, 0, 0, 0, 0, 0,\n",
       "       0, 0])"
      ]
     },
     "execution_count": 275,
     "metadata": {},
     "output_type": "execute_result"
    }
   ],
   "source": [
    "Y_predict = clf.predict(X_unlabeled)\n",
    "Y_predict"
   ]
  },
  {
   "cell_type": "code",
   "execution_count": 276,
   "metadata": {},
   "outputs": [
    {
     "data": {
      "text/plain": [
       "array([[0.46643703, 0.53356297],\n",
       "       [0.47640982, 0.52359018],\n",
       "       [0.46240894, 0.53759106],\n",
       "       [0.48348557, 0.51651443],\n",
       "       [0.53221103, 0.46778897],\n",
       "       [0.52373372, 0.47626628],\n",
       "       [0.52397656, 0.47602344],\n",
       "       [0.51818915, 0.48181085],\n",
       "       [0.57505578, 0.42494422],\n",
       "       [0.57639209, 0.42360791],\n",
       "       [0.49462063, 0.50537937],\n",
       "       [0.52408715, 0.47591285],\n",
       "       [0.53105892, 0.46894108],\n",
       "       [0.55840697, 0.44159303],\n",
       "       [0.55652713, 0.44347287],\n",
       "       [0.4869715 , 0.5130285 ],\n",
       "       [0.46156079, 0.53843921],\n",
       "       [0.48105513, 0.51894487],\n",
       "       [0.47441728, 0.52558272],\n",
       "       [0.48208736, 0.51791264],\n",
       "       [0.46550993, 0.53449007],\n",
       "       [0.47670202, 0.52329798],\n",
       "       [0.46961824, 0.53038176],\n",
       "       [0.48545438, 0.51454562]])"
      ]
     },
     "execution_count": 276,
     "metadata": {},
     "output_type": "execute_result"
    }
   ],
   "source": [
    "clf.predict_proba(X_unlabeled)"
   ]
  },
  {
   "cell_type": "markdown",
   "metadata": {},
   "source": [
    "可能性的均值和方差"
   ]
  },
  {
   "cell_type": "code",
   "execution_count": 277,
   "metadata": {},
   "outputs": [
    {
     "data": {
      "text/plain": [
       "9"
      ]
     },
     "execution_count": 277,
     "metadata": {},
     "output_type": "execute_result"
    }
   ],
   "source": [
    "index_0 = clf.predict_proba(X_unlabeled)[:, 0].argmax()\n",
    "index_0"
   ]
  },
  {
   "cell_type": "code",
   "execution_count": 278,
   "metadata": {},
   "outputs": [
    {
     "data": {
      "text/plain": [
       "array([0.57639209, 0.42360791])"
      ]
     },
     "execution_count": 278,
     "metadata": {},
     "output_type": "execute_result"
    }
   ],
   "source": [
    "clf.predict_proba(X_unlabeled)[index_0]"
   ]
  },
  {
   "cell_type": "code",
   "execution_count": 279,
   "metadata": {
    "scrolled": false
   },
   "outputs": [
    {
     "data": {
      "text/plain": [
       "16"
      ]
     },
     "execution_count": 279,
     "metadata": {},
     "output_type": "execute_result"
    }
   ],
   "source": [
    "index_1 = clf.predict_proba(X_unlabeled)[:, 1].argmax()\n",
    "index_1"
   ]
  },
  {
   "cell_type": "code",
   "execution_count": 280,
   "metadata": {},
   "outputs": [
    {
     "data": {
      "text/plain": [
       "array([0.46156079, 0.53843921])"
      ]
     },
     "execution_count": 280,
     "metadata": {},
     "output_type": "execute_result"
    }
   ],
   "source": [
    "clf.predict_proba(X_unlabeled)[index_1]"
   ]
  },
  {
   "cell_type": "code",
   "execution_count": 281,
   "metadata": {},
   "outputs": [
    {
     "data": {
      "text/plain": [
       "array([0.245, 0.057])"
      ]
     },
     "execution_count": 281,
     "metadata": {},
     "output_type": "execute_result"
    }
   ],
   "source": [
    "sample_0 = X_unlabeled[index_0]\n",
    "sample_0"
   ]
  },
  {
   "cell_type": "code",
   "execution_count": 282,
   "metadata": {},
   "outputs": [
    {
     "data": {
      "text/plain": [
       "1"
      ]
     },
     "execution_count": 282,
     "metadata": {},
     "output_type": "execute_result"
    }
   ],
   "source": [
    "sample_0_label = Y_predict[index_0]\n",
    "sample_0_label"
   ]
  },
  {
   "cell_type": "code",
   "execution_count": 283,
   "metadata": {},
   "outputs": [
    {
     "data": {
      "text/plain": [
       "array([[0.714, 0.346]])"
      ]
     },
     "execution_count": 283,
     "metadata": {},
     "output_type": "execute_result"
    }
   ],
   "source": [
    "sample_1 = X_unlabeled[index_1]\n",
    "sample_1.reshape((-1,2))"
   ]
  },
  {
   "cell_type": "code",
   "execution_count": 284,
   "metadata": {},
   "outputs": [
    {
     "data": {
      "text/plain": [
       "0"
      ]
     },
     "execution_count": 284,
     "metadata": {},
     "output_type": "execute_result"
    }
   ],
   "source": [
    "sample_1_label = Y_predict[index_1]\n",
    "sample_1_label"
   ]
  },
  {
   "cell_type": "code",
   "execution_count": 285,
   "metadata": {},
   "outputs": [
    {
     "data": {
      "text/plain": [
       "(6, 2)"
      ]
     },
     "execution_count": 285,
     "metadata": {},
     "output_type": "execute_result"
    }
   ],
   "source": [
    "X_labeled.shape"
   ]
  },
  {
   "cell_type": "code",
   "execution_count": 286,
   "metadata": {},
   "outputs": [],
   "source": [
    "X_labeled = np.append(X_labeled, sample_0.reshape((-1,2)), axis=0)\n",
    "X_labeled = np.append(X_labeled, sample_1.reshape((-1,2)), axis=0)\n",
    "Y_labeled = np.append(Y_labeled, sample_0_label)\n",
    "Y_labeled = np.append(Y_labeled, sample_1_label)"
   ]
  },
  {
   "cell_type": "code",
   "execution_count": 287,
   "metadata": {},
   "outputs": [
    {
     "data": {
      "text/plain": [
       "array([[0.697, 0.46 ],\n",
       "       [0.774, 0.376],\n",
       "       [0.634, 0.264],\n",
       "       [0.556, 0.215],\n",
       "       [0.403, 0.237],\n",
       "       [0.481, 0.149],\n",
       "       [0.437, 0.211],\n",
       "       [0.666, 0.091],\n",
       "       [0.243, 0.267],\n",
       "       [0.639, 0.161],\n",
       "       [0.36 , 0.37 ],\n",
       "       [0.593, 0.042],\n",
       "       [0.359, 0.188],\n",
       "       [0.339, 0.241],\n",
       "       [0.748, 0.232],\n",
       "       [0.714, 0.346],\n",
       "       [0.483, 0.312],\n",
       "       [0.478, 0.437],\n",
       "       [0.751, 0.489],\n",
       "       [0.532, 0.472],\n",
       "       [0.473, 0.376],\n",
       "       [0.725, 0.445],\n",
       "       [0.446, 0.459]])"
      ]
     },
     "execution_count": 287,
     "metadata": {},
     "output_type": "execute_result"
    }
   ],
   "source": [
    "np.delete(X_unlabeled, index_0, axis=0)"
   ]
  },
  {
   "cell_type": "code",
   "execution_count": 288,
   "metadata": {},
   "outputs": [],
   "source": [
    "X_unlabeled = np.delete(X_unlabeled, index_1, axis=0)"
   ]
  },
  {
   "cell_type": "code",
   "execution_count": 289,
   "metadata": {},
   "outputs": [
    {
     "data": {
      "text/plain": [
       "23"
      ]
     },
     "execution_count": 289,
     "metadata": {},
     "output_type": "execute_result"
    }
   ],
   "source": [
    "len(X_unlabeled)"
   ]
  },
  {
   "cell_type": "code",
   "execution_count": 290,
   "metadata": {},
   "outputs": [],
   "source": [
    "Y_unlabeled = np.delete(Y_unlabeled, index_0)"
   ]
  },
  {
   "cell_type": "code",
   "execution_count": 291,
   "metadata": {},
   "outputs": [],
   "source": [
    "Y_unlabeled = np.delete(Y_unlabeled, index_1)"
   ]
  },
  {
   "cell_type": "code",
   "execution_count": 292,
   "metadata": {},
   "outputs": [
    {
     "data": {
      "text/plain": [
       "22"
      ]
     },
     "execution_count": 292,
     "metadata": {},
     "output_type": "execute_result"
    }
   ],
   "source": [
    "len(Y_unlabeled)"
   ]
  },
  {
   "cell_type": "code",
   "execution_count": 293,
   "metadata": {
    "scrolled": true
   },
   "outputs": [
    {
     "data": {
      "image/png": "[encoded data removed]",
      "text/plain": [
       "<Figure size 432x288 with 1 Axes>"
      ]
     },
     "metadata": {
      "needs_background": "light"
     },
     "output_type": "display_data"
    }
   ],
   "source": [
    "plt.scatter(X_labeled[:,0],X_labeled[:,1],c=Y_labeled);"
   ]
  },
  {
   "cell_type": "markdown",
   "metadata": {},
   "source": [
    "## 迭代"
   ]
  },
  {
   "cell_type": "code",
   "execution_count": 314,
   "metadata": {},
   "outputs": [
    {
     "data": {
      "text/plain": [
       "12.0"
      ]
     },
     "execution_count": 314,
     "metadata": {},
     "output_type": "execute_result"
    }
   ],
   "source": [
    "len(Y_unlabeled)/2"
   ]
  },
  {
   "cell_type": "code",
   "execution_count": 321,
   "metadata": {},
   "outputs": [],
   "source": [
    "X_labeled = X[Y!=-1]\n",
    "# X_labeled"
   ]
  },
  {
   "cell_type": "code",
   "execution_count": 322,
   "metadata": {},
   "outputs": [],
   "source": [
    "Y_labeled = Y[Y!=-1]\n",
    "# Y_labeled"
   ]
  },
  {
   "cell_type": "code",
   "execution_count": 323,
   "metadata": {},
   "outputs": [],
   "source": [
    "X_unlabeled = X[Y==-1]\n",
    "# X_unlabeled"
   ]
  },
  {
   "cell_type": "code",
   "execution_count": 324,
   "metadata": {},
   "outputs": [],
   "source": [
    "Y_unlabeled = Y[Y==-1]\n",
    "# Y_unlabeled"
   ]
  },
  {
   "cell_type": "code",
   "execution_count": 325,
   "metadata": {},
   "outputs": [
    {
     "name": "stdout",
     "output_type": "stream",
     "text": [
      "22\n",
      "22\n",
      "20\n",
      "20\n",
      "18\n",
      "18\n",
      "16\n",
      "16\n",
      "14\n",
      "14\n",
      "12\n",
      "12\n",
      "10\n",
      "10\n",
      "8\n",
      "8\n",
      "6\n",
      "6\n",
      "4\n",
      "4\n",
      "2\n",
      "2\n",
      "0\n",
      "0\n"
     ]
    }
   ],
   "source": [
    "from sklearn import svm\n",
    "\n",
    "for i in range(int(len(Y_unlabeled)/2)):\n",
    "    \n",
    "    clf = svm.SVC(probability=True)\n",
    "    clf.fit(X_labeled, Y_labeled)\n",
    "    \n",
    "    Y_predict = clf.predict(X_unlabeled)\n",
    "    \n",
    "    index_0 = clf.predict_proba(X_unlabeled)[:, 0].argmax()\n",
    "    index_1 = clf.predict_proba(X_unlabeled)[:, 1].argmax()\n",
    "    sample_0 = X_unlabeled[index_0]\n",
    "    sample_0_label = Y_predict[index_0]\n",
    "    sample_1 = X_unlabeled[index_1]\n",
    "    sample_1_label = Y_predict[index_1]\n",
    "    \n",
    "    X_labeled = np.append(X_labeled, sample_0.reshape((-1,2)), axis=0)\n",
    "    X_labeled = np.append(X_labeled, sample_1.reshape((-1,2)), axis=0)\n",
    "    Y_labeled = np.append(Y_labeled, sample_0_label)\n",
    "    Y_labeled = np.append(Y_labeled, sample_1_label)\n",
    "    \n",
    "    X_unlabeled = np.delete(X_unlabeled, index_0, axis=0)\n",
    "    X_unlabeled = np.delete(X_unlabeled, index_1, axis=0)\n",
    "    Y_unlabeled = np.delete(Y_unlabeled, index_0)\n",
    "    Y_unlabeled = np.delete(Y_unlabeled, index_1)\n",
    "    print(len(X_unlabeled))\n",
    "    print(len(Y_unlabeled))\n",
    "    \n",
    "#     plt.scatter(X_labeled[:,0],X_labeled[:,1],c=Y_labeled);"
   ]
  },
  {
   "cell_type": "code",
   "execution_count": 327,
   "metadata": {},
   "outputs": [
    {
     "data": {
      "image/png": "[encoded data removed]",
      "text/plain": [
       "<Figure size 432x288 with 1 Axes>"
      ]
     },
     "metadata": {
      "needs_background": "light"
     },
     "output_type": "display_data"
    }
   ],
   "source": [
    "plt.scatter(X_labeled[:,0],X_labeled[:,1],c=Y_labeled);"
   ]
  }
 ],
 "metadata": {
  "kernelspec": {
   "display_name": "Python 3",
   "language": "python",
   "name": "python3"
  },
  "language_info": {
   "codemirror_mode": {
    "name": "ipython",
    "version": 3
   },
   "file_extension": ".py",
   "mimetype": "text/x-python",
   "name": "python",
   "nbconvert_exporter": "python",
   "pygments_lexer": "ipython3",
   "version": "3.7.3"
  },
  "nbTranslate": {
   "displayLangs": [
    "*"
   ],
   "hotkey": "alt-t",
   "langInMainMenu": true,
   "sourceLang": "en",
   "targetLang": "fr",
   "useGoogleTranslate": true
  },
  "toc": {
   "base_numbering": 1,
   "nav_menu": {},
   "number_sections": true,
   "sideBar": true,
   "skip_h1_title": true,
   "title_cell": "Table of Contents",
   "title_sidebar": "Contents",
   "toc_cell": false,
   "toc_position": {},
   "toc_section_display": true,
   "toc_window_display": true
  }
 },
 "nbformat": 4,
 "nbformat_minor": 4
}
