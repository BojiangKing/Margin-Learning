{
 "cells": [
  {
   "cell_type": "markdown",
   "metadata": {},
   "source": [
    "# 半监督聚类"
   ]
  },
  {
   "cell_type": "markdown",
   "metadata": {},
   "source": [
    "[半监督K均值聚类python代码](https://blog.csdn.net/tyh70537/article/details/80483654)"
   ]
  },
  {
   "cell_type": "code",
   "execution_count": 8,
   "metadata": {},
   "outputs": [],
   "source": [
    "# -*- coding: utf-8 -*-\n",
    "import numpy as np\n",
    "\n",
    "def distEclud(vecA, vecB):\n",
    "    '''\n",
    "    输入：向量A和B\n",
    "    输出：A和B间的欧式距离\n",
    "    '''\n",
    "    return np.sqrt(sum(np.power(vecA - vecB, 2)))"
   ]
  },
  {
   "cell_type": "code",
   "execution_count": 9,
   "metadata": {},
   "outputs": [],
   "source": [
    "def newCent(L):\n",
    "    '''\n",
    "    输入：有标签数据集L\n",
    "    输出：根据L确定初始聚类中心\n",
    "    '''\n",
    "    centroids = []\n",
    "    label_list = np.unique(L[:,-1])\n",
    "    for i in label_list:\n",
    "        L_i = L[(L[:,-1])==i]\n",
    "        cent_i = np.mean(L_i,0)\n",
    "        centroids.append(cent_i[:-1])\n",
    "    return np.array(centroids) "
   ]
  },
  {
   "cell_type": "code",
   "execution_count": 10,
   "metadata": {},
   "outputs": [],
   "source": [
    "def semi_kMeans(L, U, distMeas=distEclud, initial_centriod=newCent):\n",
    "    '''\n",
    "    输入：有标签数据集L（最后一列为类别标签）、无标签数据集U（无类别标签）\n",
    "    输出：聚类结果\n",
    "    '''\n",
    "    dataSet = np.vstack((L[:,:-1],U))#合并L和U\n",
    "    label_list = np.unique(L[:,-1])\n",
    "    k = len(label_list)           #L中类别个数\n",
    "    m = np.shape(dataSet)[0]\n",
    "    \n",
    "    clusterAssment = np.zeros(m)#初始化样本的分配                             \n",
    "    centroids = initial_centriod(L)#确定初始聚类中心\n",
    "    clusterChanged = True\n",
    "    while clusterChanged:\n",
    "        clusterChanged = False\n",
    "        for i in range(m):#将每个样本分配给最近的聚类中心\n",
    "            minDist = np.inf; minIndex = -1\n",
    "            for j in range(k):\n",
    "                distJI = distMeas(centroids[j,:],dataSet[i,:])\n",
    "                if distJI < minDist:\n",
    "                    minDist = distJI; minIndex = j\n",
    "            if clusterAssment[i] != minIndex: clusterChanged = True\n",
    "            clusterAssment[i] = minIndex\n",
    "            \n",
    "        for cent in range(k):\n",
    "            #得到属于第cent个簇的样本的集合\n",
    "            ptsInClust = dataSet[np.nonzero(clusterAssment==cent)[0]] \n",
    "            #计算这个集合里面样本的均值，即中心\n",
    "            centroids[cent,:] = np.mean(ptsInClust, axis=0) \n",
    "\n",
    "    return clusterAssment  "
   ]
  },
  {
   "cell_type": "code",
   "execution_count": 11,
   "metadata": {},
   "outputs": [],
   "source": [
    "L =np.array([[1.0, 4.2 ,1],\n",
    "    [1.3, 4.0 , 1],\n",
    "    [1.0, 4.0 , 1],\n",
    "    [1.5, 4.3 , 1],\n",
    "    [2.0, 4.0 , 0],\n",
    "    [2.3, 3.7 , 0],\n",
    "    [4.0, 1.0 , 0]])"
   ]
  },
  {
   "cell_type": "code",
   "execution_count": 12,
   "metadata": {},
   "outputs": [],
   "source": [
    " #L的最后一列是类别标签   \n",
    "U =np.array([[1.4, 5.0],\n",
    "    [1.3, 5.4],\n",
    "    [2.0, 5.0],\n",
    "    [4.0, 2.0],\n",
    "    [5.0, 1.0],\n",
    "    [5.0, 2.0]])"
   ]
  },
  {
   "cell_type": "code",
   "execution_count": 13,
   "metadata": {},
   "outputs": [],
   "source": [
    "clusterResult = semi_kMeans(L,U)"
   ]
  },
  {
   "cell_type": "code",
   "execution_count": 14,
   "metadata": {},
   "outputs": [
    {
     "data": {
      "text/plain": [
       "array([1., 1., 1., 1., 1., 1., 0., 1., 1., 1., 0., 0., 0.])"
      ]
     },
     "execution_count": 14,
     "metadata": {},
     "output_type": "execute_result"
    }
   ],
   "source": [
    "clusterResult"
   ]
  }
 ],
 "metadata": {
  "kernelspec": {
   "display_name": "Python 3",
   "language": "python",
   "name": "python3"
  },
  "language_info": {
   "codemirror_mode": {
    "name": "ipython",
    "version": 3
   },
   "file_extension": ".py",
   "mimetype": "text/x-python",
   "name": "python",
   "nbconvert_exporter": "python",
   "pygments_lexer": "ipython3",
   "version": "3.7.3"
  },
  "nbTranslate": {
   "displayLangs": [
    "*"
   ],
   "hotkey": "alt-t",
   "langInMainMenu": true,
   "sourceLang": "en",
   "targetLang": "fr",
   "useGoogleTranslate": true
  },
  "toc": {
   "base_numbering": 1,
   "nav_menu": {},
   "number_sections": true,
   "sideBar": true,
   "skip_h1_title": false,
   "title_cell": "Table of Contents",
   "title_sidebar": "Contents",
   "toc_cell": false,
   "toc_position": {},
   "toc_section_display": true,
   "toc_window_display": false
  }
 },
 "nbformat": 4,
 "nbformat_minor": 4
}
